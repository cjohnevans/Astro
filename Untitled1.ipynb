{
 "cells": [
  {
   "cell_type": "code",
   "execution_count": 1,
   "id": "beee869b",
   "metadata": {},
   "outputs": [],
   "source": [
    "import pandas as pd"
   ]
  },
  {
   "cell_type": "code",
   "execution_count": 18,
   "id": "e3498931",
   "metadata": {},
   "outputs": [
    {
     "data": {
      "text/plain": [
       "'0643-1645 cma|1rxs j003828.7+250920|1rxs j063214.8+253620|1rxs j185310.0+594509|3c 273|3c 279|3c 345|3c 371|3c 66a|4c+29.45|68 her|70 uma|ab and|ab aur|ab cas|ab cyg|ab dra|ac boo|ac her|ad and|ad boo|ad cap|ad per|ae aqr|ae aur|af and|af cam|af cyg|ag dra|ag peg|ah cep|ah dra|ah her|ai dra|ai tri|ak cnc|ak her|al com|alpha her|alpha ori|am aur|am cas|am her|an cam|an uma|ao 0235+164 ari|ap crb|ap leo|aq and|aq cmi|ar and|ar aur|ar cep|ar lac|ar uma|as245 sgr|asas 002512|asas j153608-2256.5|asas j174732-1623.4|asas j174736-1621.1|asassn-13ak|asassn-13bo|asassn-13dc|asassn-14ca|asassn-14fu|asassn-15gp|asassn-15ko|asassn-15mt|asassn-15sl|asassn-16as|asassn-16cw|asassn-16ef|asassn-16ev|asassn-16fy|asassn-16is|asassn-16kf|asassn-v j185255.04+290949.6|at cnc|at dra|atlas18olb|aw cyg|aw gem|aw lac|aw sge|ax per|ay lac|ay lyr|az cas|az dra|bc cyg|bc uma|beta lyr|beta peg|beta per|bf aur|bf cyg|bh dra|bh lyn|bi cyg|bi del|bk vir|bl lac|bl ori|bm cas|bm gem|bn gem|bq gem|bq ori|br cvn|br cyg|bu gem|bu per|bu tau|bv tau|bw tau|bx and|bx mon|by cam|by lyn|bz and|bz uma|cc cam|cc cnc|cc com|cd and|cd tau|ce lyn|ce tau|cg cam|cg cep|cg cma|cg dra|ch crb|ch cyg|ch her|ch uma|chi cyg|chi oph|chi2 hya|ci aql|ci cam|ci cyg|ci gem|ci uma|ck ori|cm del|cm lac|cn ori|co aur|cp dra|cq aur|cr boo|css 081231:071126+440405|css 090213:033031+201402|css 090303:173003+482119|css 100217:104411+211307|css 130418:174033+414756|ct hya|cw cep|cw mon|cy lyr|cy uma|cz ori|dde 22|dde 26|dde 48|de cnc|de cvn|delta cep|delta lib|delta2 lyr|dh aql|di uma|dk cas|dm cep|dm lyr|dm per|dn ori|do cas|do dra|dp leo|dq her|dr uma|ds and|dv dra|dv uma|dw cnc|dw gem|dw uma|dx and|dy per|dz and|ee cep|ee peg|ef peg|eg and|eg aqr|eg cep|eg cnc|eg uma|ei cep|ei psc|ei uma|ek cep|em cyg|eo aur|epsilon aur|epsilon peg|eq j010959.2+280125|er ori|er uma|es aql|es dra|eta aql|eta gem|eu and|eu del|eu sct|eu uma|ew cma|ew lac|ex dra|ex hya|ey aql|ey cyg|ey ori|ez dra|ez lyn|fbs 1719+834|fbs 1735+825|fg ser|fg sge|fh lyn|fk hya|fl cet|fn and|fo and|fo aql|fo ori|fo per|fr cma|fr lyn|fr sct|fs aur|fs cma|fs sct|fsv j1722+2723|ft cam|ft cma|fu com|fv lyn|fw cma|fx cep|fy lib|fy vul|fz cep|fz per|g her|gamma cas|gg leo|gg lup|gk cep|gk lyr|gk per|gm sgr|go cnc|go com|go peg|gsc 1992 447|gv psc|gw gem|gx cas|gy cnc|gz cnc|hl aur|hl cma|hm leo|hm sge|hn cyg|ho del|hp and|hp cet|hp lyr|hr del|hr lyr|hs 2325+8205|hs sge|ht cam|ht cas|hu tau|hudec s object her|hv aur|hv vir|hx peg|hy psc|hz her|il vul|im aur|ip peg|iphas j230538.39+652158.7|iq her|iq per|ir com|ir gem|ir lyr|is gem|isv 0115+63 cas|iu aur|iw and|ix dra|iy aur|iy uma|iz per|kappa oph|kic 11390659|kid 11127048|kk per|kp cas|kr aur|ks uma|kt per|ku cas|ku cyg|kv and|kv dra|kv uma|kv vir|kw and|kx and|kx aql|kx ori|ky and|lambda tau|lanning 17|ll and|ll lyr|ll vir|ls and|ls peg|lu cam|lu gem|lv cnc|lx and|lx per|lx ser|ly aur|ly del|markarian 421|markarian 509|master ot j024847.86+501239.7|master ot j061335.30+395714.7|master ot j073418.66+271310.5|master ot j105545.20+573109.7|master ot j162323.48+782603.3|master ot j175924.12+252031.7|master ot j191841.98+444914.5|master ot j204627.96+242218.0|master ot j213054.91+390209.4|miu cep|mr ser|mr uma|mv del|mv lyr|ngc1275|ngc4151|ngc7469|nn cep|nn del|no aur|nq gem|nq vul|ns per|nsv 10836|nsv 11565|nsv 12088|nsv 12439|nsv 1280|nsv 13242|nsv 13784|nsv 13806|nsv 13857|nsv 14213|nsv 14473|nsv 14680|nsv 15044|nsv 15133|nsv 15404|nsv 15463|nsv 15553|nsv 15707|nsv 15889|nsv 1665|nsv 16777|nsv 16874|nsv 17493|nsv 2026|nsv 21|nsv 24346|nsv 24587|nsv 24739|nsv 24987|nsv 25046|nsv 25109|nsv 25186|nsv 2537|nsv 25747|nsv 25835|nsv 25966|nsv 2859|nsv 2917|nsv 3369|nsv 3797|nsv 3808|nsv 4031|nsv 4147|nsv 422|nsv 436|nsv 4838|nsv 5976|nsv 650|nsv 7373|nsv 7378|nsv 895|nsvs j0712062+293744|nu ori|ny cep|ny her|ny ser|nz boo|oj 287|omega cma|omicron cas|omicron cet|omicron her|oo aql|op her|oq 530 boo|os and|ot j0211+1716|ot j0515+3030|ot j1639+1224|ou vir|ov cep|p cyg|pg1104+022|pks 0422+00|pks 0735+178|pnv j21581852+2419246|pq and|pq cep|pr her|pr per|psi 1 aur|ptf1 j071912.13+485834.0|pu gem|pu per|pu uma|pu vul|pv per|pw vul|py per|pz gem|q cyg|q1992/001|qq vul|qr and|qu vul|qv aqr|qv vul|qw ser|qw sge|qy per|qz vir|r and|r aql|r aqr|r ara|r ari|r aur|r boo|r cam|r cas|r com|r crb|r cyg|r dra|r gem|r hya|r leo|r lep|r lyn|r lyr|r peg|r per|r sct|r ser|r sge|r tri|r uma|r umi|r vul|rho cas|rho per|rr ari|rr crb|rr eri|rr tau|rr umi|rs and|rs cha|rs cnc|rs crb|rs cvn|rs leo|rs oph|rs per|rt cap|rt cnc|rt cvn|rt hya|rt leo|rt sex|ru cep|ru cyg|ru her|ru lmi|ru peg|ru sex|rv boo|rv cam|rv cas|rv cyg|rv hya|rv mon|rv tau|rw and|rw aur|rw boo|rw cep|rw com|rw gem|rw hya|rw tau|rw vir|rx and|rx boo|rx cas|rx cep|rx her|rx j1437.0+2342|rx j183144.5+651135|rx lep|rx vir|rxj 1715+6856|rxj2319+3647|ry cam|ry dra|ry leo|ry oph|ry uma|rz cas|rz cnc|rz com|rz leo|rz lmi|rz sge|rz vul|s aql|s boo|s cam|s cas|s cep|s crb|s crt|s cyg|s del|s dra|s equ|s her|s lep|s mon|s nor|s per|s sct|s uma|s umi|s vir|s5 0716+71|sdss j003941.06+005427.5|sdss j021317.18+460643.4|sdss j033320.37+000720.7|sdss j073208.11+413008.7|sdss j074355.56+183834.8|sdss j074640.62+173412.8|sdss j074716.81+424849.0|sdss j074859.55+312512.6|sdss j075117.00+100016.2|sdss j075939.79+191417.3|sdss j080142.37+210345.8|sdss j080215.39+401047.2|sdss j080303.90+251627.0|sdss j080306.99+284855.8|sdss j080714.26+113812.5|sdss j080908.39+381406.2|sdss j081207.63+131824.4|sdss j081352.02+281317.3|sdss j081610.84+453010.2|sdss j082457.15+073702.4|sdss j083754.64+564506.7|sdss j084026.16+220446.6|sdss j090016.56+430118.2|sdss j090628.25+052656.9|sdss j091127.36+084140.7|sdss j091147.02+315101.8|sdss j092009.54+004244.9|sdss j093238.21+010902.5|sdss j095135.21+602939.6|sdss j100515.38+191107.9|sdss j100658.40+233724.4|sdss j103147.99+085224.3|sdss j103533.03+055158.4|sdss j110014.72+131552.1|sdss j112003.40+663632.4|sdss j113551.09+532246.2|sdss j113826.73+061919.5|sdss j115207.00+404947.8|sdss j120231.01+450349.1|sdss j120841.96+355025.2|sdss j121607.03+052013.9|sdss j121929.46+471522.8|sdss j122405.58+184102.7|sdss j123255.11+222209.4|sdss j124819.36+072049.4|sdss j125641.29-015852.0|sdss j130030.33+115101.2|sdss j130514.73+582856.3|sdss j140429.37+172359.5|sdss j143317.78+101123.3|sdss j143544.02+233638.7|sdss j144011.01+494733.4|sdss j150441.76+084752.6|sdss j151006.34-015521.7|sdss j153634.42+332851.9|sdss j160419.02+161548.5|sdss j160501.35+203056.9|sdss j161332.56-000331.0|sdss j161909.10+135145.5|sdss j162718.39+120435.0|sdss j162830.89+240259.1|sdss j163120.88+103134.0|sdss j164248.52+134751.4|sdss j165837.70+184727.4|sdss j171247.71+604603.3|sdss j172601.96+543230.8|sdss j173008.38+624754.7|sdss j210131.26+105251.5|sdss j223439.93+004127.2|sn 1980k|sn 1989b|sn 1991bg|sn 1991t|sn 1992g|sn 1993j|sn 1994ae|sn 1994d|sn 1994i|sn 1994w|sn 1995al|sn 1995d|sn 1996bk|sn 1997x|sn 1998aq|sn 1998bu|sn 1998s|sn 1999by|sn 1999cl|sn 1999em|ss ari|ss aur|ss boo|ss cep|ss cet|ss com|ss cyg|ss gem|ss her|ss lep|ss lmi|ss umi|ss vir|st aqr|st cam|st cep|st her|st lmi|st per|st uma|su and|su aqr|su aur|su cnc|su lac|su lyn|su per|su tau|su uma|sv ari|sv cam|sv cep|sv cmi|sv crv|sv lyn|sv sge|sv1204+26 com|sv1234+27 com|sw crb|sw cyg|sw lac|sw uma|sw vir|swift j1910.2-0546|sx aur|sx her|sx lac|sx lmi|sx mon|sy cnc|sz psc|sz tau|t ari|t boo|t cas|t cep|t cet|t cnc|t crb|t cyg|t dra|t her|t pyx|t tau|t uma|tasv 0722+37|tasv j1835+383|tasv0534+10|tasv1108+55|tasv164125a|tau4 ser|tav0216+48|tav0346+38|tav0559+06|tav0714+17|tav1831+19|tav1831+19 south|tav1933+53|tavj2059+264|tcp j06112800+4041087|tt ari|tt aur|tt boo|tt crt|tt cyg|tt hya|tt lyr|tt tau|tu cvn|tu gem|tu tri|tv cas|tv gem|tv psc|tv uma|tw and|tw aur|tw cas|tw cnc|tw dra|tw vir|tx cas|tx cvn|tx dra|tx her|tx psc|tx tri|tx uma|ty men|ty psc|ty sge|ty vir|ty vul|tyc 4031 791 1|tz and|tz lyr|tz men|tz per|u aqr|u boo|u cam|u cep|u crb|u cvn|u cyg|u del|u gem|u her|u hya|u leo|u lmi|u mon|u oph|u ori|u sco|u sge|uu aql|uu aur|uu cnc|uv aur|uv boo|uv cam|uv cas|uv gem|uv leo|uv per|uw aql|uw cma|uw dra|uw her|uw per|uw tri|ux cam|ux dra|ux uma|uy and|uz boo|uz leo|uz lyr|v aql|v ari|v boo|v cam|v cas|v crb|v cvn|v cyg|v hya|v sge|v tau|v uma|v umi|v vul|v1006 cyg|v1008 her|v1016 cyg|v1017 sgr|v1028 cyg|v1046 ori|v1057 cyg|v1060 cyg|v1068 tau|v1070 cyg|v1081 tau|v1108 her|v1113 cyg|v1141 aql|v1141 sco|v1143 cyg|v1159 ori|v1208 tau|v1212 tau|v1227 her|v1251 cyg|v1258 tau|v1265 tau|v1293 aql|v1294 aql|v1295 aql|v1309 ori|v1316 cyg|v1316 cyg comp2|v1322 cyg|v1329 cyg|v1330 cyg|v1339 cyg|v1343 aql|v1351 cyg|v1363 cyg|v1370 aql|v1413 aql|v1419 aql|v1425 aql|v1454 cyg|v1493 aql|v1500 cyg|v1504 cyg|v1548 aql|v1668 cyg|v1717 aql|v1760 cyg|v1819 cyg|v1974 cyg|v1990 cyg|v2048 oph|v2080 cyg|v2085 cyg|v2176 cyg|v2204 oph|v2274 cyg|v2275 cyg|v2301 oph|v2303 oph|v2313 oph|v2335 oph|v2362 cyg|v2429 cyg|v2467 cyg|v2487 oph|v2523 oph|v2582 oph|v2690 oph|v2828 ori|v335 vul|v336 per|v337 cep|v337 cyg|v339 del|v340 aqr|v342 cam|v343 ser|v344 lyr|v344 ori|v346 aql|v355 gem|v358 lyr|v362 cep|v3645 sgr|v366 lac|v367 cyg|v368 peg|v370 peg|v372 ori|v373 cas|v375 uma|v377 cas|v378 peg|v386 cep|v391 cam|v391 cas|v391 lyr|v392 per|v393 cas|v400 per|v402 and|v404 cyg|v405 aur|v4077 sgr|v409 per|v4135 sgr|v416 lac|v418 cas|v419 lyr|v420 and|v422 cep|v426 cep|v426 oph|v428 aur|v443 her|v443 sct|v444 sct|v448 cyg|v450 aql|v451 cas|v451 cep|v451 oph|v452 cas|v453 cyg|v455 and|v460 cyg|v4633 sgr|v465 cas|v466 cyg|v4743 sgr|v477 cyg|v478 her|v479 and|v482 cyg|v485 aqr|v493 aur|v493 lyr|v493 ser|v494 aur|v496 aur|v503 cyg|v505 mon|v505 per|v509 cas|v513 per|v516 cyg|v518 per|v519 ser|v521 peg|v523 cas|v529 ori|v530 ori|v533 her|v542 cyg|v550 cyg|v566 cas|v566 her|v566 oph|v585 lyr|v587 lyr|v589 her|v592 her|v603 aql|v616 mon|v624 peg|v630 cas|v630 cyg|v632 cyg|v635 cas|v640 ori|v643 ori|v647 aur|v650 ori|v650 peg|v651 mon|v654 aur|v660 her|v686 mon|v701 tau|v705 cas|v713 cep|v720 cas|v723 cas|v725 aql|v727 cas|v730 cep|v745 sco|v751 cyg|v764 cas|v770 cas|v771 her|v778 cyg|v793 cyg|v795 cyg|v811 cyg|v822 aql|v822 cas|v826 cas|v827 her|v832 cyg|v836 cyg|v838 her|v844 her|v854 cas|v872 per|v884 her|v902 mon|v923 aql|v930 cyg|v973 cyg|var 79 peg|vsx j012059.6+325544|vv cep|vv cet|vv equ|vw cep|vw crb|vw crv|vw dra|vw uma|vw vul|vx and|vx cas|vx lac|vy aqr|vy cma|vy tau|vy uma|vz cam|w and|w boo|w cas|w cep|w cma|w com|w crb|w cyg|w lmi|w lyn|w lyr|w ori|w tri|w uma|w umi|wr162 cas|ww and|ww aur|ww dra|ww vul|wx cet|wy cnc|wy gem|wz cas|wz sge|x aur|x cam|x cnc|x her|x leo|x lyn|x oph|x peg|x per|x tri|xx cam|xx oph|xy lyr|xy psc|xz cnc|y cvn|y cyg|y lyn|y per|y psc|y tau|y uma|yy her|yz cas|yz cnc|yz lmi|z and|z cam|z dra|z eri|z her|z per|z psc|z uma|z umi|z vul|zeta gem|zz boo|zz cam|zz cep|zz cnc'"
      ]
     },
     "metadata": {},
     "output_type": "display_data"
    }
   ],
   "source": [
    "seq = pd.read_csv('baa_sequences.txt',delimiter='\\t')\n",
    "obj = seq['Object Id']\n",
    "display(obj)\n",
    "obj.describe()\n",
    "obs_lower = obj.str.lower()\n",
    "pattern = '|'.join(obs_lower)\n",
    "display(pattern)"
   ]
  },
  {
   "cell_type": "code",
   "execution_count": 21,
   "id": "4cddfeaa",
   "metadata": {},
   "outputs": [
    {
     "data": {
      "text/plain": [
       "False"
      ]
     },
     "execution_count": 21,
     "metadata": {},
     "output_type": "execute_result"
    }
   ],
   "source": [
    "pattern in 'z her'"
   ]
  },
  {
   "cell_type": "code",
   "execution_count": 22,
   "id": "eb3ee43a",
   "metadata": {},
   "outputs": [
    {
     "data": {
      "text/plain": [
       "True"
      ]
     },
     "execution_count": 22,
     "metadata": {},
     "output_type": "execute_result"
    }
   ],
   "source": [
    "'z her' in pattern"
   ]
  },
  {
   "cell_type": "code",
   "execution_count": null,
   "id": "cf6f70aa",
   "metadata": {},
   "outputs": [],
   "source": []
  }
 ],
 "metadata": {
  "kernelspec": {
   "display_name": "Python 3 (ipykernel)",
   "language": "python",
   "name": "python3"
  },
  "language_info": {
   "codemirror_mode": {
    "name": "ipython",
    "version": 3
   },
   "file_extension": ".py",
   "mimetype": "text/x-python",
   "name": "python",
   "nbconvert_exporter": "python",
   "pygments_lexer": "ipython3",
   "version": "3.9.12"
  }
 },
 "nbformat": 4,
 "nbformat_minor": 5
}
