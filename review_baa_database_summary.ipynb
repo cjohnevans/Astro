{
 "cells": [
  {
   "cell_type": "code",
   "execution_count": 1,
   "id": "3c8ed4d4",
   "metadata": {},
   "outputs": [],
   "source": [
    "import pandas as pd"
   ]
  },
  {
   "cell_type": "code",
   "execution_count": 2,
   "id": "0857f8e0",
   "metadata": {},
   "outputs": [],
   "source": [
    "# get the constallation name abbreviations, to limit variable stars to sensible names\n",
    "def load_const_file(const_file):\n",
    "#const_file = 'constellation_names.txt'\n",
    "    f_const = open(const_file)\n",
    "    line = ' '\n",
    "    const_abbr = []\n",
    "    while line != '':\n",
    "        line = f_const.readline()\n",
    "        const_abbr.append(line.split('\\t')[-1].replace('\\n',''))\n",
    "    const_abbr = const_abbr[2:]\n",
    "    f_const.close()\n",
    "    const_abbr_low = [ const.lower() for const in const_abbr ]\n",
    "    return const_abbr_low"
   ]
  },
  {
   "cell_type": "code",
   "execution_count": 3,
   "id": "6d8b849a",
   "metadata": {},
   "outputs": [],
   "source": [
    "def load_seq_pattern(seq_file):\n",
    "    '''\n",
    "    get the sequence files available on BAA and return as regexp pattern\n",
    "\n",
    "    '''\n",
    "    seq = pd.read_csv('baa_sequences.txt',delimiter='\\t')\n",
    "    obj = seq['Object Id']\n",
    "    display(obj)\n",
    "    obj.describe()\n",
    "    obs_lower = obj.str.lower()\n",
    "    seq_pattern = '|'.join(obs_lower)\n",
    "    return seq_pattern\n",
    "    "
   ]
  },
  {
   "cell_type": "code",
   "execution_count": 4,
   "id": "951970af",
   "metadata": {},
   "outputs": [],
   "source": [
    "in_file = '/home/john/astro/variable_star_data/baa/all_star_summary.csv'"
   ]
  },
  {
   "cell_type": "code",
   "execution_count": 5,
   "id": "6b104226",
   "metadata": {},
   "outputs": [
    {
     "ename": "FileNotFoundError",
     "evalue": "[Errno 2] No such file or directory: '/home/john/astro/variable_star_data/baa/all_star_summary.csv'",
     "output_type": "error",
     "traceback": [
      "\u001b[1;31m---------------------------------------------------------------------------\u001b[0m",
      "\u001b[1;31mFileNotFoundError\u001b[0m                         Traceback (most recent call last)",
      "Cell \u001b[1;32mIn [5], line 2\u001b[0m\n\u001b[0;32m      1\u001b[0m \u001b[38;5;66;03m# read in BAA variable star summary data as a Panda Data Frame\u001b[39;00m\n\u001b[1;32m----> 2\u001b[0m vsdb_full \u001b[38;5;241m=\u001b[39m \u001b[43mpd\u001b[49m\u001b[38;5;241;43m.\u001b[39;49m\u001b[43mread_csv\u001b[49m\u001b[43m(\u001b[49m\u001b[43min_file\u001b[49m\u001b[43m)\u001b[49m\n\u001b[0;32m      3\u001b[0m vsdb_full\u001b[38;5;241m.\u001b[39mhead()\n",
      "File \u001b[1;32m~\\Miniconda3\\lib\\site-packages\\pandas\\util\\_decorators.py:211\u001b[0m, in \u001b[0;36mdeprecate_kwarg.<locals>._deprecate_kwarg.<locals>.wrapper\u001b[1;34m(*args, **kwargs)\u001b[0m\n\u001b[0;32m    209\u001b[0m     \u001b[38;5;28;01melse\u001b[39;00m:\n\u001b[0;32m    210\u001b[0m         kwargs[new_arg_name] \u001b[38;5;241m=\u001b[39m new_arg_value\n\u001b[1;32m--> 211\u001b[0m \u001b[38;5;28;01mreturn\u001b[39;00m func(\u001b[38;5;241m*\u001b[39margs, \u001b[38;5;241m*\u001b[39m\u001b[38;5;241m*\u001b[39mkwargs)\n",
      "File \u001b[1;32m~\\Miniconda3\\lib\\site-packages\\pandas\\util\\_decorators.py:331\u001b[0m, in \u001b[0;36mdeprecate_nonkeyword_arguments.<locals>.decorate.<locals>.wrapper\u001b[1;34m(*args, **kwargs)\u001b[0m\n\u001b[0;32m    325\u001b[0m \u001b[38;5;28;01mif\u001b[39;00m \u001b[38;5;28mlen\u001b[39m(args) \u001b[38;5;241m>\u001b[39m num_allow_args:\n\u001b[0;32m    326\u001b[0m     warnings\u001b[38;5;241m.\u001b[39mwarn(\n\u001b[0;32m    327\u001b[0m         msg\u001b[38;5;241m.\u001b[39mformat(arguments\u001b[38;5;241m=\u001b[39m_format_argument_list(allow_args)),\n\u001b[0;32m    328\u001b[0m         \u001b[38;5;167;01mFutureWarning\u001b[39;00m,\n\u001b[0;32m    329\u001b[0m         stacklevel\u001b[38;5;241m=\u001b[39mfind_stack_level(),\n\u001b[0;32m    330\u001b[0m     )\n\u001b[1;32m--> 331\u001b[0m \u001b[38;5;28;01mreturn\u001b[39;00m func(\u001b[38;5;241m*\u001b[39margs, \u001b[38;5;241m*\u001b[39m\u001b[38;5;241m*\u001b[39mkwargs)\n",
      "File \u001b[1;32m~\\Miniconda3\\lib\\site-packages\\pandas\\io\\parsers\\readers.py:950\u001b[0m, in \u001b[0;36mread_csv\u001b[1;34m(filepath_or_buffer, sep, delimiter, header, names, index_col, usecols, squeeze, prefix, mangle_dupe_cols, dtype, engine, converters, true_values, false_values, skipinitialspace, skiprows, skipfooter, nrows, na_values, keep_default_na, na_filter, verbose, skip_blank_lines, parse_dates, infer_datetime_format, keep_date_col, date_parser, dayfirst, cache_dates, iterator, chunksize, compression, thousands, decimal, lineterminator, quotechar, quoting, doublequote, escapechar, comment, encoding, encoding_errors, dialect, error_bad_lines, warn_bad_lines, on_bad_lines, delim_whitespace, low_memory, memory_map, float_precision, storage_options)\u001b[0m\n\u001b[0;32m    935\u001b[0m kwds_defaults \u001b[38;5;241m=\u001b[39m _refine_defaults_read(\n\u001b[0;32m    936\u001b[0m     dialect,\n\u001b[0;32m    937\u001b[0m     delimiter,\n\u001b[1;32m   (...)\u001b[0m\n\u001b[0;32m    946\u001b[0m     defaults\u001b[38;5;241m=\u001b[39m{\u001b[38;5;124m\"\u001b[39m\u001b[38;5;124mdelimiter\u001b[39m\u001b[38;5;124m\"\u001b[39m: \u001b[38;5;124m\"\u001b[39m\u001b[38;5;124m,\u001b[39m\u001b[38;5;124m\"\u001b[39m},\n\u001b[0;32m    947\u001b[0m )\n\u001b[0;32m    948\u001b[0m kwds\u001b[38;5;241m.\u001b[39mupdate(kwds_defaults)\n\u001b[1;32m--> 950\u001b[0m \u001b[38;5;28;01mreturn\u001b[39;00m \u001b[43m_read\u001b[49m\u001b[43m(\u001b[49m\u001b[43mfilepath_or_buffer\u001b[49m\u001b[43m,\u001b[49m\u001b[43m \u001b[49m\u001b[43mkwds\u001b[49m\u001b[43m)\u001b[49m\n",
      "File \u001b[1;32m~\\Miniconda3\\lib\\site-packages\\pandas\\io\\parsers\\readers.py:605\u001b[0m, in \u001b[0;36m_read\u001b[1;34m(filepath_or_buffer, kwds)\u001b[0m\n\u001b[0;32m    602\u001b[0m _validate_names(kwds\u001b[38;5;241m.\u001b[39mget(\u001b[38;5;124m\"\u001b[39m\u001b[38;5;124mnames\u001b[39m\u001b[38;5;124m\"\u001b[39m, \u001b[38;5;28;01mNone\u001b[39;00m))\n\u001b[0;32m    604\u001b[0m \u001b[38;5;66;03m# Create the parser.\u001b[39;00m\n\u001b[1;32m--> 605\u001b[0m parser \u001b[38;5;241m=\u001b[39m TextFileReader(filepath_or_buffer, \u001b[38;5;241m*\u001b[39m\u001b[38;5;241m*\u001b[39mkwds)\n\u001b[0;32m    607\u001b[0m \u001b[38;5;28;01mif\u001b[39;00m chunksize \u001b[38;5;129;01mor\u001b[39;00m iterator:\n\u001b[0;32m    608\u001b[0m     \u001b[38;5;28;01mreturn\u001b[39;00m parser\n",
      "File \u001b[1;32m~\\Miniconda3\\lib\\site-packages\\pandas\\io\\parsers\\readers.py:1442\u001b[0m, in \u001b[0;36mTextFileReader.__init__\u001b[1;34m(self, f, engine, **kwds)\u001b[0m\n\u001b[0;32m   1439\u001b[0m     \u001b[38;5;28mself\u001b[39m\u001b[38;5;241m.\u001b[39moptions[\u001b[38;5;124m\"\u001b[39m\u001b[38;5;124mhas_index_names\u001b[39m\u001b[38;5;124m\"\u001b[39m] \u001b[38;5;241m=\u001b[39m kwds[\u001b[38;5;124m\"\u001b[39m\u001b[38;5;124mhas_index_names\u001b[39m\u001b[38;5;124m\"\u001b[39m]\n\u001b[0;32m   1441\u001b[0m \u001b[38;5;28mself\u001b[39m\u001b[38;5;241m.\u001b[39mhandles: IOHandles \u001b[38;5;241m|\u001b[39m \u001b[38;5;28;01mNone\u001b[39;00m \u001b[38;5;241m=\u001b[39m \u001b[38;5;28;01mNone\u001b[39;00m\n\u001b[1;32m-> 1442\u001b[0m \u001b[38;5;28mself\u001b[39m\u001b[38;5;241m.\u001b[39m_engine \u001b[38;5;241m=\u001b[39m \u001b[38;5;28;43mself\u001b[39;49m\u001b[38;5;241;43m.\u001b[39;49m\u001b[43m_make_engine\u001b[49m\u001b[43m(\u001b[49m\u001b[43mf\u001b[49m\u001b[43m,\u001b[49m\u001b[43m \u001b[49m\u001b[38;5;28;43mself\u001b[39;49m\u001b[38;5;241;43m.\u001b[39;49m\u001b[43mengine\u001b[49m\u001b[43m)\u001b[49m\n",
      "File \u001b[1;32m~\\Miniconda3\\lib\\site-packages\\pandas\\io\\parsers\\readers.py:1735\u001b[0m, in \u001b[0;36mTextFileReader._make_engine\u001b[1;34m(self, f, engine)\u001b[0m\n\u001b[0;32m   1733\u001b[0m     \u001b[38;5;28;01mif\u001b[39;00m \u001b[38;5;124m\"\u001b[39m\u001b[38;5;124mb\u001b[39m\u001b[38;5;124m\"\u001b[39m \u001b[38;5;129;01mnot\u001b[39;00m \u001b[38;5;129;01min\u001b[39;00m mode:\n\u001b[0;32m   1734\u001b[0m         mode \u001b[38;5;241m+\u001b[39m\u001b[38;5;241m=\u001b[39m \u001b[38;5;124m\"\u001b[39m\u001b[38;5;124mb\u001b[39m\u001b[38;5;124m\"\u001b[39m\n\u001b[1;32m-> 1735\u001b[0m \u001b[38;5;28mself\u001b[39m\u001b[38;5;241m.\u001b[39mhandles \u001b[38;5;241m=\u001b[39m \u001b[43mget_handle\u001b[49m\u001b[43m(\u001b[49m\n\u001b[0;32m   1736\u001b[0m \u001b[43m    \u001b[49m\u001b[43mf\u001b[49m\u001b[43m,\u001b[49m\n\u001b[0;32m   1737\u001b[0m \u001b[43m    \u001b[49m\u001b[43mmode\u001b[49m\u001b[43m,\u001b[49m\n\u001b[0;32m   1738\u001b[0m \u001b[43m    \u001b[49m\u001b[43mencoding\u001b[49m\u001b[38;5;241;43m=\u001b[39;49m\u001b[38;5;28;43mself\u001b[39;49m\u001b[38;5;241;43m.\u001b[39;49m\u001b[43moptions\u001b[49m\u001b[38;5;241;43m.\u001b[39;49m\u001b[43mget\u001b[49m\u001b[43m(\u001b[49m\u001b[38;5;124;43m\"\u001b[39;49m\u001b[38;5;124;43mencoding\u001b[39;49m\u001b[38;5;124;43m\"\u001b[39;49m\u001b[43m,\u001b[49m\u001b[43m \u001b[49m\u001b[38;5;28;43;01mNone\u001b[39;49;00m\u001b[43m)\u001b[49m\u001b[43m,\u001b[49m\n\u001b[0;32m   1739\u001b[0m \u001b[43m    \u001b[49m\u001b[43mcompression\u001b[49m\u001b[38;5;241;43m=\u001b[39;49m\u001b[38;5;28;43mself\u001b[39;49m\u001b[38;5;241;43m.\u001b[39;49m\u001b[43moptions\u001b[49m\u001b[38;5;241;43m.\u001b[39;49m\u001b[43mget\u001b[49m\u001b[43m(\u001b[49m\u001b[38;5;124;43m\"\u001b[39;49m\u001b[38;5;124;43mcompression\u001b[39;49m\u001b[38;5;124;43m\"\u001b[39;49m\u001b[43m,\u001b[49m\u001b[43m \u001b[49m\u001b[38;5;28;43;01mNone\u001b[39;49;00m\u001b[43m)\u001b[49m\u001b[43m,\u001b[49m\n\u001b[0;32m   1740\u001b[0m \u001b[43m    \u001b[49m\u001b[43mmemory_map\u001b[49m\u001b[38;5;241;43m=\u001b[39;49m\u001b[38;5;28;43mself\u001b[39;49m\u001b[38;5;241;43m.\u001b[39;49m\u001b[43moptions\u001b[49m\u001b[38;5;241;43m.\u001b[39;49m\u001b[43mget\u001b[49m\u001b[43m(\u001b[49m\u001b[38;5;124;43m\"\u001b[39;49m\u001b[38;5;124;43mmemory_map\u001b[39;49m\u001b[38;5;124;43m\"\u001b[39;49m\u001b[43m,\u001b[49m\u001b[43m \u001b[49m\u001b[38;5;28;43;01mFalse\u001b[39;49;00m\u001b[43m)\u001b[49m\u001b[43m,\u001b[49m\n\u001b[0;32m   1741\u001b[0m \u001b[43m    \u001b[49m\u001b[43mis_text\u001b[49m\u001b[38;5;241;43m=\u001b[39;49m\u001b[43mis_text\u001b[49m\u001b[43m,\u001b[49m\n\u001b[0;32m   1742\u001b[0m \u001b[43m    \u001b[49m\u001b[43merrors\u001b[49m\u001b[38;5;241;43m=\u001b[39;49m\u001b[38;5;28;43mself\u001b[39;49m\u001b[38;5;241;43m.\u001b[39;49m\u001b[43moptions\u001b[49m\u001b[38;5;241;43m.\u001b[39;49m\u001b[43mget\u001b[49m\u001b[43m(\u001b[49m\u001b[38;5;124;43m\"\u001b[39;49m\u001b[38;5;124;43mencoding_errors\u001b[39;49m\u001b[38;5;124;43m\"\u001b[39;49m\u001b[43m,\u001b[49m\u001b[43m \u001b[49m\u001b[38;5;124;43m\"\u001b[39;49m\u001b[38;5;124;43mstrict\u001b[39;49m\u001b[38;5;124;43m\"\u001b[39;49m\u001b[43m)\u001b[49m\u001b[43m,\u001b[49m\n\u001b[0;32m   1743\u001b[0m \u001b[43m    \u001b[49m\u001b[43mstorage_options\u001b[49m\u001b[38;5;241;43m=\u001b[39;49m\u001b[38;5;28;43mself\u001b[39;49m\u001b[38;5;241;43m.\u001b[39;49m\u001b[43moptions\u001b[49m\u001b[38;5;241;43m.\u001b[39;49m\u001b[43mget\u001b[49m\u001b[43m(\u001b[49m\u001b[38;5;124;43m\"\u001b[39;49m\u001b[38;5;124;43mstorage_options\u001b[39;49m\u001b[38;5;124;43m\"\u001b[39;49m\u001b[43m,\u001b[49m\u001b[43m \u001b[49m\u001b[38;5;28;43;01mNone\u001b[39;49;00m\u001b[43m)\u001b[49m\u001b[43m,\u001b[49m\n\u001b[0;32m   1744\u001b[0m \u001b[43m\u001b[49m\u001b[43m)\u001b[49m\n\u001b[0;32m   1745\u001b[0m \u001b[38;5;28;01massert\u001b[39;00m \u001b[38;5;28mself\u001b[39m\u001b[38;5;241m.\u001b[39mhandles \u001b[38;5;129;01mis\u001b[39;00m \u001b[38;5;129;01mnot\u001b[39;00m \u001b[38;5;28;01mNone\u001b[39;00m\n\u001b[0;32m   1746\u001b[0m f \u001b[38;5;241m=\u001b[39m \u001b[38;5;28mself\u001b[39m\u001b[38;5;241m.\u001b[39mhandles\u001b[38;5;241m.\u001b[39mhandle\n",
      "File \u001b[1;32m~\\Miniconda3\\lib\\site-packages\\pandas\\io\\common.py:856\u001b[0m, in \u001b[0;36mget_handle\u001b[1;34m(path_or_buf, mode, encoding, compression, memory_map, is_text, errors, storage_options)\u001b[0m\n\u001b[0;32m    851\u001b[0m \u001b[38;5;28;01melif\u001b[39;00m \u001b[38;5;28misinstance\u001b[39m(handle, \u001b[38;5;28mstr\u001b[39m):\n\u001b[0;32m    852\u001b[0m     \u001b[38;5;66;03m# Check whether the filename is to be opened in binary mode.\u001b[39;00m\n\u001b[0;32m    853\u001b[0m     \u001b[38;5;66;03m# Binary mode does not support 'encoding' and 'newline'.\u001b[39;00m\n\u001b[0;32m    854\u001b[0m     \u001b[38;5;28;01mif\u001b[39;00m ioargs\u001b[38;5;241m.\u001b[39mencoding \u001b[38;5;129;01mand\u001b[39;00m \u001b[38;5;124m\"\u001b[39m\u001b[38;5;124mb\u001b[39m\u001b[38;5;124m\"\u001b[39m \u001b[38;5;129;01mnot\u001b[39;00m \u001b[38;5;129;01min\u001b[39;00m ioargs\u001b[38;5;241m.\u001b[39mmode:\n\u001b[0;32m    855\u001b[0m         \u001b[38;5;66;03m# Encoding\u001b[39;00m\n\u001b[1;32m--> 856\u001b[0m         handle \u001b[38;5;241m=\u001b[39m \u001b[38;5;28;43mopen\u001b[39;49m\u001b[43m(\u001b[49m\n\u001b[0;32m    857\u001b[0m \u001b[43m            \u001b[49m\u001b[43mhandle\u001b[49m\u001b[43m,\u001b[49m\n\u001b[0;32m    858\u001b[0m \u001b[43m            \u001b[49m\u001b[43mioargs\u001b[49m\u001b[38;5;241;43m.\u001b[39;49m\u001b[43mmode\u001b[49m\u001b[43m,\u001b[49m\n\u001b[0;32m    859\u001b[0m \u001b[43m            \u001b[49m\u001b[43mencoding\u001b[49m\u001b[38;5;241;43m=\u001b[39;49m\u001b[43mioargs\u001b[49m\u001b[38;5;241;43m.\u001b[39;49m\u001b[43mencoding\u001b[49m\u001b[43m,\u001b[49m\n\u001b[0;32m    860\u001b[0m \u001b[43m            \u001b[49m\u001b[43merrors\u001b[49m\u001b[38;5;241;43m=\u001b[39;49m\u001b[43merrors\u001b[49m\u001b[43m,\u001b[49m\n\u001b[0;32m    861\u001b[0m \u001b[43m            \u001b[49m\u001b[43mnewline\u001b[49m\u001b[38;5;241;43m=\u001b[39;49m\u001b[38;5;124;43m\"\u001b[39;49m\u001b[38;5;124;43m\"\u001b[39;49m\u001b[43m,\u001b[49m\n\u001b[0;32m    862\u001b[0m \u001b[43m        \u001b[49m\u001b[43m)\u001b[49m\n\u001b[0;32m    863\u001b[0m     \u001b[38;5;28;01melse\u001b[39;00m:\n\u001b[0;32m    864\u001b[0m         \u001b[38;5;66;03m# Binary mode\u001b[39;00m\n\u001b[0;32m    865\u001b[0m         handle \u001b[38;5;241m=\u001b[39m \u001b[38;5;28mopen\u001b[39m(handle, ioargs\u001b[38;5;241m.\u001b[39mmode)\n",
      "\u001b[1;31mFileNotFoundError\u001b[0m: [Errno 2] No such file or directory: '/home/john/astro/variable_star_data/baa/all_star_summary.csv'"
     ]
    }
   ],
   "source": [
    "# read in BAA variable star summary data as a Panda Data Frame\n",
    "vsdb_full = pd.read_csv(in_file)\n",
    "vsdb_full.head()"
   ]
  },
  {
   "cell_type": "code",
   "execution_count": null,
   "id": "4def0582",
   "metadata": {},
   "outputs": [],
   "source": [
    "vsdb_full.describe()"
   ]
  },
  {
   "cell_type": "code",
   "execution_count": null,
   "id": "d4bb8997",
   "metadata": {},
   "outputs": [],
   "source": [
    "vsdb_full.hist('Number of Observations', bins=100)"
   ]
  },
  {
   "cell_type": "code",
   "execution_count": null,
   "id": "557e5868",
   "metadata": {},
   "outputs": [],
   "source": [
    "# can also call describe() on a Series object\n",
    "vsdb_full['Maximum Magnitude'].describe()"
   ]
  },
  {
   "cell_type": "code",
   "execution_count": null,
   "id": "4ca1300a",
   "metadata": {},
   "outputs": [],
   "source": [
    "vsdb_full[['Variable Star', 'Number of Observations', 'Number of Observers']].sort_values(by='Number of Observations', ascending=False).head(30)"
   ]
  },
  {
   "cell_type": "code",
   "execution_count": null,
   "id": "dc73183e",
   "metadata": {},
   "outputs": [],
   "source": [
    "# create a pattern to search which is an OR of each element in const_abbr (i.e. any constallation abbreviation)\n",
    "const_abbrev = load_const_file('constellation_names.txt')\n",
    "pattern = '|'.join(const_abbrev)\n",
    "# need to watch the trailing OR, which seems to cause everything to match\n",
    "pattern = pattern[:-1]\n",
    "print(pattern)"
   ]
  },
  {
   "cell_type": "code",
   "execution_count": null,
   "id": "65fc2570",
   "metadata": {},
   "outputs": [],
   "source": [
    "# I only want the stars where there are two fields in the name (e.g. 'TX Dra')\n",
    "vsdb_allconst = vsdb_full\n",
    "vsdb_allconst['Valid_nFields'] = vsdb_allconst['Variable Star'].str.count(' ')\n",
    "\n",
    "#remove rows which don't have 1 nFields\n",
    "vsdb_allconst.drop(vsdb_allconst[vsdb_allconst.Valid_nFields != 1].index, inplace=True)\n",
    "\n",
    "# set the second field to be a 'Constellation' description.  Needs to be lower case to match pattern, above.\n",
    "vs_const = vsdb_allconst['Variable Star'].str.split(expand=True)\n",
    "vsdb_allconst['VS Constellation'] = vs_const[1].str.lower()"
   ]
  },
  {
   "cell_type": "code",
   "execution_count": null,
   "id": "24d25e63",
   "metadata": {},
   "outputs": [],
   "source": [
    "# check whether str.contains is working...\n",
    "vsdb_allconst['VS Constellation'].str.contains(pattern)==True"
   ]
  },
  {
   "cell_type": "code",
   "execution_count": null,
   "id": "6d3178f1",
   "metadata": {},
   "outputs": [],
   "source": [
    "# drop all rows where the conditional statement \n",
    "vsdb_allconst.drop(vsdb_allconst[vsdb_allconst['VS Constellation'].str.contains(pattern)==False].index, inplace=True)\n",
    "vsdb_allconst.head()"
   ]
  },
  {
   "cell_type": "code",
   "execution_count": null,
   "id": "acd5cfae",
   "metadata": {},
   "outputs": [],
   "source": [
    "# vsdb, after initial filter on valid star name (two fields, contains a constellation abbreviation)\n",
    "vsdb_allconst.describe()"
   ]
  },
  {
   "cell_type": "code",
   "execution_count": null,
   "id": "73871517",
   "metadata": {},
   "outputs": [],
   "source": [
    "vsdb_allconst[['VS Constellation']].value_counts()"
   ]
  },
  {
   "cell_type": "code",
   "execution_count": null,
   "id": "0f1ef658",
   "metadata": {},
   "outputs": [],
   "source": [
    "# slicing via []\n",
    "vsdb_allconst[vsdb_allconst['VS Constellation']=='cyg']"
   ]
  },
  {
   "cell_type": "code",
   "execution_count": null,
   "id": "1becdd09",
   "metadata": {},
   "outputs": [],
   "source": [
    "#  this conditional statement returns a pandas Series of booleans\n",
    "vsdb_allconst['VS Constellation']=='cyg'"
   ]
  },
  {
   "cell_type": "code",
   "execution_count": null,
   "id": "2d808f65",
   "metadata": {},
   "outputs": [],
   "source": [
    "type(vsdb_allconst['VS Constellation']=='cyg')"
   ]
  },
  {
   "cell_type": "code",
   "execution_count": null,
   "id": "5bf991f0",
   "metadata": {},
   "outputs": [],
   "source": [
    "# check the dtype. Note the () are needed to prevent dtype operating on 'cyg'\n",
    "(vsdb_allconst['VS Constellation']=='cyg').dtype"
   ]
  },
  {
   "cell_type": "code",
   "execution_count": null,
   "id": "9dfe722f",
   "metadata": {},
   "outputs": [],
   "source": [
    "# slicing via loc\n",
    "# this is equivalent (I think!) to \n",
    "# vsdb[vsdb['VS Constellation']=='cyg']\n",
    "vsdb_allconst.loc[vsdb_allconst['VS Constellation']=='cyg']"
   ]
  },
  {
   "cell_type": "code",
   "execution_count": null,
   "id": "46386c87",
   "metadata": {},
   "outputs": [],
   "source": [
    "vsdb_allconst[vsdb_allconst['VS Constellation']=='cyg'].sort_values(by='Number of Observations', ascending=False)"
   ]
  },
  {
   "cell_type": "code",
   "execution_count": null,
   "id": "e675c48b",
   "metadata": {},
   "outputs": [],
   "source": [
    "# Having done that, now look at TARGET CONSTELLATIONS, but selecting the constallations that I \n",
    "# want to observe\n",
    "# create a pattern to search which is an OR of each element in const_abbr (i.e. any constallation abbreviation)\n",
    "vsdb_targets = vsdb_allconst\n",
    "const_abbrev = load_const_file('constellation_names_targets.txt')\n",
    "pattern = '|'.join(const_abbrev)\n",
    "# need to watch the trailing OR, which seems to cause everything to match\n",
    "pattern = pattern[:-1]\n",
    "print(pattern)\n",
    "# drop all rows where the conditional statement \n",
    "vsdb_targets.drop(vsdb_targets[vsdb_targets['VS Constellation'].str.contains(pattern)==False].index, inplace=True)\n",
    "# start filtering on conditions\n",
    "# first, range > v1.0\n",
    "# this reduces the number of objects from ~2100 to ~1200\n",
    "vsdb_targets = vsdb_targets[vsdb_targets['Range']>=1.0]\n",
    "vsdb_targets.head()"
   ]
  },
  {
   "cell_type": "code",
   "execution_count": null,
   "id": "8c415a60",
   "metadata": {},
   "outputs": [],
   "source": [
    "# start filtering on conditions\n",
    "# first, range > v1.0\n",
    "# this reduces the number of objects from ~2100 to ~1200\n",
    "vsdb_targets = vsdb_targets[vsdb_targets['Range']>=1.0]\n",
    "vsdb_targets.describe()"
   ]
  },
  {
   "cell_type": "code",
   "execution_count": null,
   "id": "ed6db771",
   "metadata": {},
   "outputs": [],
   "source": [
    "# filter on min magnitude to find suitable binocular targets\n",
    "#  reduces targets to ~200\n",
    "vsdb_targets = vsdb_targets[vsdb_targets['Minimum Magnitude']<=9.0]\n",
    "vsdb_targets.describe()"
   ]
  },
  {
   "cell_type": "code",
   "execution_count": null,
   "id": "d6608ac8",
   "metadata": {},
   "outputs": [],
   "source": [
    "vsdb_targets['Number of Observations'].hist()"
   ]
  },
  {
   "cell_type": "code",
   "execution_count": null,
   "id": "2b830a64",
   "metadata": {},
   "outputs": [],
   "source": [
    "vsdb_targets.describe()"
   ]
  },
  {
   "cell_type": "code",
   "execution_count": null,
   "id": "29b15d01",
   "metadata": {},
   "outputs": [],
   "source": [
    "# generate a target list from the 25% least observed variables\n",
    "vs_target_list = vsdb_targets[vsdb_targets['Number of Observations']<=275]\n",
    "# although probably better to try filtering on EXISTING baa sequence file first\n",
    "# then possibly time since last obs?"
   ]
  },
  {
   "cell_type": "code",
   "execution_count": null,
   "id": "5dc28277",
   "metadata": {},
   "outputs": [],
   "source": [
    "vs_target_list.drop(columns='Valid_nFields')"
   ]
  },
  {
   "cell_type": "code",
   "execution_count": null,
   "id": "9f9bb200",
   "metadata": {},
   "outputs": [],
   "source": [
    "vs_target_list.sort_values('VS Constellation')"
   ]
  },
  {
   "cell_type": "code",
   "execution_count": null,
   "id": "8121e597",
   "metadata": {},
   "outputs": [],
   "source": [
    "vs_target_list['VS Constellation'].value_counts()"
   ]
  },
  {
   "cell_type": "code",
   "execution_count": null,
   "id": "62b4bc6a",
   "metadata": {},
   "outputs": [],
   "source": []
  }
 ],
 "metadata": {
  "kernelspec": {
   "display_name": "Python 3 (ipykernel)",
   "language": "python",
   "name": "python3"
  },
  "language_info": {
   "codemirror_mode": {
    "name": "ipython",
    "version": 3
   },
   "file_extension": ".py",
   "mimetype": "text/x-python",
   "name": "python",
   "nbconvert_exporter": "python",
   "pygments_lexer": "ipython3",
   "version": "3.9.12"
  }
 },
 "nbformat": 4,
 "nbformat_minor": 5
}
