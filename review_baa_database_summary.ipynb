{
 "cells": [
  {
   "cell_type": "code",
   "execution_count": 5,
   "id": "3c8ed4d4",
   "metadata": {},
   "outputs": [],
   "source": [
    "import pandas as pd"
   ]
  },
  {
   "cell_type": "code",
   "execution_count": 6,
   "id": "951970af",
   "metadata": {},
   "outputs": [],
   "source": [
    "in_file = '/home/john/astro/variable_star_data/baa/all_star_summary.csv'"
   ]
  },
  {
   "cell_type": "code",
   "execution_count": 7,
   "id": "3b79e956",
   "metadata": {},
   "outputs": [],
   "source": [
    "# read in BAA variable star summary data as a Panda Data Frame\n",
    "vsdb = pd.read_csv(in_file)"
   ]
  },
  {
   "cell_type": "code",
   "execution_count": 8,
   "id": "6b104226",
   "metadata": {},
   "outputs": [
    {
     "data": {
      "text/html": [
       "<div>\n",
       "<style scoped>\n",
       "    .dataframe tbody tr th:only-of-type {\n",
       "        vertical-align: middle;\n",
       "    }\n",
       "\n",
       "    .dataframe tbody tr th {\n",
       "        vertical-align: top;\n",
       "    }\n",
       "\n",
       "    .dataframe thead th {\n",
       "        text-align: right;\n",
       "    }\n",
       "</style>\n",
       "<table border=\"1\" class=\"dataframe\">\n",
       "  <thead>\n",
       "    <tr style=\"text-align: right;\">\n",
       "      <th></th>\n",
       "      <th>Variable Star</th>\n",
       "      <th>Number of Observations</th>\n",
       "      <th>Number of Observers</th>\n",
       "      <th>First Observation JD / UT</th>\n",
       "      <th>Latest Observation JD / UT</th>\n",
       "      <th>Maximum Magnitude</th>\n",
       "      <th>Minimum Magnitude</th>\n",
       "      <th>Range</th>\n",
       "    </tr>\n",
       "  </thead>\n",
       "  <tbody>\n",
       "    <tr>\n",
       "      <th>0</th>\n",
       "      <td>0531+00</td>\n",
       "      <td>2</td>\n",
       "      <td>1</td>\n",
       "      <td>2448216.495000 20 Nov 1990 23:52:48.000000</td>\n",
       "      <td>2449391.448000 7 Feb 1994 22:45:07.200000</td>\n",
       "      <td>9.9</td>\n",
       "      <td>11.3</td>\n",
       "      <td>1.4</td>\n",
       "    </tr>\n",
       "    <tr>\n",
       "      <th>1</th>\n",
       "      <td>0545+46</td>\n",
       "      <td>2</td>\n",
       "      <td>1</td>\n",
       "      <td>2447905.255000 13 Jan 1990 18:07:12.000000</td>\n",
       "      <td>2449393.452000 9 Feb 1994 22:50:52.800000</td>\n",
       "      <td>11.3</td>\n",
       "      <td>11.9</td>\n",
       "      <td>0.6</td>\n",
       "    </tr>\n",
       "    <tr>\n",
       "      <th>2</th>\n",
       "      <td>0643-1645 CMA</td>\n",
       "      <td>11</td>\n",
       "      <td>1</td>\n",
       "      <td>2448631.518700 10 Jan 1992 00:26:55.680000</td>\n",
       "      <td>2448692.366600 10 Mar 1992 20:47:54.240000</td>\n",
       "      <td>11.8</td>\n",
       "      <td>12.0</td>\n",
       "      <td>0.2</td>\n",
       "    </tr>\n",
       "    <tr>\n",
       "      <th>3</th>\n",
       "      <td>128 COMP STAR</td>\n",
       "      <td>1</td>\n",
       "      <td>1</td>\n",
       "      <td>2453919.482600 2 Jul 2006 23:34:56.640000</td>\n",
       "      <td>2453919.482600 2 Jul 2006 23:34:56.640000</td>\n",
       "      <td>12.6</td>\n",
       "      <td>12.6</td>\n",
       "      <td>0.0</td>\n",
       "    </tr>\n",
       "    <tr>\n",
       "      <th>4</th>\n",
       "      <td>1910+47</td>\n",
       "      <td>2</td>\n",
       "      <td>1</td>\n",
       "      <td>2448477.506000 9 Aug 1991 00:08:38.400000</td>\n",
       "      <td>2449719.306000 1 Jan 1995 19:20:38.400000</td>\n",
       "      <td>11.0</td>\n",
       "      <td>11.8</td>\n",
       "      <td>0.8</td>\n",
       "    </tr>\n",
       "  </tbody>\n",
       "</table>\n",
       "</div>"
      ],
      "text/plain": [
       "   Variable Star  Number of Observations  Number of Observers  \\\n",
       "0        0531+00                       2                    1   \n",
       "1        0545+46                       2                    1   \n",
       "2  0643-1645 CMA                      11                    1   \n",
       "3  128 COMP STAR                       1                    1   \n",
       "4        1910+47                       2                    1   \n",
       "\n",
       "                    First Observation JD / UT  \\\n",
       "0  2448216.495000 20 Nov 1990 23:52:48.000000   \n",
       "1  2447905.255000 13 Jan 1990 18:07:12.000000   \n",
       "2  2448631.518700 10 Jan 1992 00:26:55.680000   \n",
       "3   2453919.482600 2 Jul 2006 23:34:56.640000   \n",
       "4   2448477.506000 9 Aug 1991 00:08:38.400000   \n",
       "\n",
       "                   Latest Observation JD / UT  Maximum Magnitude  \\\n",
       "0   2449391.448000 7 Feb 1994 22:45:07.200000                9.9   \n",
       "1   2449393.452000 9 Feb 1994 22:50:52.800000               11.3   \n",
       "2  2448692.366600 10 Mar 1992 20:47:54.240000               11.8   \n",
       "3   2453919.482600 2 Jul 2006 23:34:56.640000               12.6   \n",
       "4   2449719.306000 1 Jan 1995 19:20:38.400000               11.0   \n",
       "\n",
       "   Minimum Magnitude  Range  \n",
       "0               11.3    1.4  \n",
       "1               11.9    0.6  \n",
       "2               12.0    0.2  \n",
       "3               12.6    0.0  \n",
       "4               11.8    0.8  "
      ]
     },
     "execution_count": 8,
     "metadata": {},
     "output_type": "execute_result"
    }
   ],
   "source": [
    "vsdb.head()"
   ]
  },
  {
   "cell_type": "code",
   "execution_count": 9,
   "id": "4def0582",
   "metadata": {},
   "outputs": [
    {
     "data": {
      "text/plain": [
       "count     2593.000000\n",
       "mean       894.243733\n",
       "std       3074.279891\n",
       "min          1.000000\n",
       "25%          2.000000\n",
       "50%         22.000000\n",
       "75%        297.000000\n",
       "max      59231.000000\n",
       "Name: Number of Observations, dtype: float64"
      ]
     },
     "execution_count": 9,
     "metadata": {},
     "output_type": "execute_result"
    }
   ],
   "source": [
    "vsdb['Number of Observations'].describe()"
   ]
  },
  {
   "cell_type": "code",
   "execution_count": 20,
   "id": "d4bb8997",
   "metadata": {},
   "outputs": [
    {
     "data": {
      "text/plain": [
       "array([[<AxesSubplot: title={'center': 'Number of Observations'}>]],\n",
       "      dtype=object)"
      ]
     },
     "execution_count": 20,
     "metadata": {},
     "output_type": "execute_result"
    },
    {
     "data": {
      "image/png": "[encoded data removed]",
      "text/plain": [
       "<Figure size 640x480 with 1 Axes>"
      ]
     },
     "metadata": {},
     "output_type": "display_data"
    }
   ],
   "source": [
    "vsdb.hist('Number of Observations', bins=100)"
   ]
  },
  {
   "cell_type": "code",
   "execution_count": 10,
   "id": "557e5868",
   "metadata": {},
   "outputs": [
    {
     "data": {
      "text/plain": [
       "count    2593.000000\n",
       "mean        9.901257\n",
       "std         2.997333\n",
       "min        -0.600000\n",
       "25%         7.600000\n",
       "50%        10.100000\n",
       "75%        12.000000\n",
       "max        19.000000\n",
       "Name: Maximum Magnitude, dtype: float64"
      ]
     },
     "execution_count": 10,
     "metadata": {},
     "output_type": "execute_result"
    }
   ],
   "source": [
    "vsdb['Maximum Magnitude'].describe()"
   ]
  },
  {
   "cell_type": "code",
   "execution_count": 11,
   "id": "3cbc8f6f",
   "metadata": {},
   "outputs": [
    {
     "data": {
      "text/plain": [
       "count    2593.000000\n",
       "mean        2.109846\n",
       "std         2.324433\n",
       "min         0.000000\n",
       "25%         0.100000\n",
       "50%         1.360000\n",
       "75%         3.300000\n",
       "max        17.200000\n",
       "Name: Range, dtype: float64"
      ]
     },
     "execution_count": 11,
     "metadata": {},
     "output_type": "execute_result"
    }
   ],
   "source": [
    "vsdb['Range'].describe()"
   ]
  },
  {
   "cell_type": "code",
   "execution_count": 12,
   "id": "85060e0e",
   "metadata": {},
   "outputs": [
    {
     "data": {
      "text/plain": [
       "count    2593.000000\n",
       "mean        9.799460\n",
       "std        25.817197\n",
       "min         1.000000\n",
       "25%         1.000000\n",
       "50%         1.000000\n",
       "75%         4.000000\n",
       "max       302.000000\n",
       "Name: Number of Observers, dtype: float64"
      ]
     },
     "execution_count": 12,
     "metadata": {},
     "output_type": "execute_result"
    }
   ],
   "source": [
    "vsdb['Number of Observers'].describe()"
   ]
  },
  {
   "cell_type": "code",
   "execution_count": 17,
   "id": "4ca1300a",
   "metadata": {},
   "outputs": [
    {
     "data": {
      "text/html": [
       "<div>\n",
       "<style scoped>\n",
       "    .dataframe tbody tr th:only-of-type {\n",
       "        vertical-align: middle;\n",
       "    }\n",
       "\n",
       "    .dataframe tbody tr th {\n",
       "        vertical-align: top;\n",
       "    }\n",
       "\n",
       "    .dataframe thead th {\n",
       "        text-align: right;\n",
       "    }\n",
       "</style>\n",
       "<table border=\"1\" class=\"dataframe\">\n",
       "  <thead>\n",
       "    <tr style=\"text-align: right;\">\n",
       "      <th></th>\n",
       "      <th>Variable Star</th>\n",
       "      <th>Number of Observations</th>\n",
       "      <th>Number of Observers</th>\n",
       "    </tr>\n",
       "  </thead>\n",
       "  <tbody>\n",
       "    <tr>\n",
       "      <th>1108</th>\n",
       "      <td>R CRB</td>\n",
       "      <td>59231</td>\n",
       "      <td>302</td>\n",
       "    </tr>\n",
       "    <tr>\n",
       "      <th>1466</th>\n",
       "      <td>SS CYG</td>\n",
       "      <td>52363</td>\n",
       "      <td>194</td>\n",
       "    </tr>\n",
       "    <tr>\n",
       "      <th>1463</th>\n",
       "      <td>SS AUR</td>\n",
       "      <td>34044</td>\n",
       "      <td>146</td>\n",
       "    </tr>\n",
       "    <tr>\n",
       "      <th>2472</th>\n",
       "      <td>W CYG</td>\n",
       "      <td>29928</td>\n",
       "      <td>230</td>\n",
       "    </tr>\n",
       "    <tr>\n",
       "      <th>290</th>\n",
       "      <td>CH CYG</td>\n",
       "      <td>28255</td>\n",
       "      <td>167</td>\n",
       "    </tr>\n",
       "    <tr>\n",
       "      <th>1139</th>\n",
       "      <td>R SCT</td>\n",
       "      <td>28171</td>\n",
       "      <td>237</td>\n",
       "    </tr>\n",
       "    <tr>\n",
       "      <th>1740</th>\n",
       "      <td>U GEM</td>\n",
       "      <td>25596</td>\n",
       "      <td>183</td>\n",
       "    </tr>\n",
       "    <tr>\n",
       "      <th>1272</th>\n",
       "      <td>RX AND</td>\n",
       "      <td>24558</td>\n",
       "      <td>110</td>\n",
       "    </tr>\n",
       "    <tr>\n",
       "      <th>296</th>\n",
       "      <td>CHI CYG</td>\n",
       "      <td>24544</td>\n",
       "      <td>234</td>\n",
       "    </tr>\n",
       "    <tr>\n",
       "      <th>1577</th>\n",
       "      <td>T CRB</td>\n",
       "      <td>22620</td>\n",
       "      <td>159</td>\n",
       "    </tr>\n",
       "    <tr>\n",
       "      <th>1238</th>\n",
       "      <td>RU PEG</td>\n",
       "      <td>20175</td>\n",
       "      <td>127</td>\n",
       "    </tr>\n",
       "    <tr>\n",
       "      <th>1503</th>\n",
       "      <td>SU UMA</td>\n",
       "      <td>19602</td>\n",
       "      <td>77</td>\n",
       "    </tr>\n",
       "    <tr>\n",
       "      <th>1005</th>\n",
       "      <td>OMICRON CET</td>\n",
       "      <td>18196</td>\n",
       "      <td>222</td>\n",
       "    </tr>\n",
       "    <tr>\n",
       "      <th>1718</th>\n",
       "      <td>TZ PER</td>\n",
       "      <td>17774</td>\n",
       "      <td>76</td>\n",
       "    </tr>\n",
       "    <tr>\n",
       "      <th>1600</th>\n",
       "      <td>T UMA</td>\n",
       "      <td>17201</td>\n",
       "      <td>157</td>\n",
       "    </tr>\n",
       "    <tr>\n",
       "      <th>552</th>\n",
       "      <td>GAMMA CAS</td>\n",
       "      <td>16678</td>\n",
       "      <td>142</td>\n",
       "    </tr>\n",
       "    <tr>\n",
       "      <th>1822</th>\n",
       "      <td>V BOO</td>\n",
       "      <td>16427</td>\n",
       "      <td>165</td>\n",
       "    </tr>\n",
       "    <tr>\n",
       "      <th>1572</th>\n",
       "      <td>T CEP</td>\n",
       "      <td>16352</td>\n",
       "      <td>143</td>\n",
       "    </tr>\n",
       "    <tr>\n",
       "      <th>1372</th>\n",
       "      <td>S UMA</td>\n",
       "      <td>16018</td>\n",
       "      <td>131</td>\n",
       "    </tr>\n",
       "    <tr>\n",
       "      <th>1749</th>\n",
       "      <td>U ORI</td>\n",
       "      <td>15732</td>\n",
       "      <td>197</td>\n",
       "    </tr>\n",
       "    <tr>\n",
       "      <th>2527</th>\n",
       "      <td>X CAM</td>\n",
       "      <td>15206</td>\n",
       "      <td>105</td>\n",
       "    </tr>\n",
       "    <tr>\n",
       "      <th>38</th>\n",
       "      <td>AB DRA</td>\n",
       "      <td>15104</td>\n",
       "      <td>59</td>\n",
       "    </tr>\n",
       "    <tr>\n",
       "      <th>1339</th>\n",
       "      <td>S CRB</td>\n",
       "      <td>14946</td>\n",
       "      <td>148</td>\n",
       "    </tr>\n",
       "    <tr>\n",
       "      <th>2181</th>\n",
       "      <td>V465 CAS</td>\n",
       "      <td>14904</td>\n",
       "      <td>135</td>\n",
       "    </tr>\n",
       "    <tr>\n",
       "      <th>1123</th>\n",
       "      <td>R LEO</td>\n",
       "      <td>14770</td>\n",
       "      <td>179</td>\n",
       "    </tr>\n",
       "    <tr>\n",
       "      <th>1094</th>\n",
       "      <td>R AQL</td>\n",
       "      <td>14446</td>\n",
       "      <td>137</td>\n",
       "    </tr>\n",
       "    <tr>\n",
       "      <th>2548</th>\n",
       "      <td>X PER</td>\n",
       "      <td>14420</td>\n",
       "      <td>157</td>\n",
       "    </tr>\n",
       "    <tr>\n",
       "      <th>1570</th>\n",
       "      <td>T CAS</td>\n",
       "      <td>14328</td>\n",
       "      <td>131</td>\n",
       "    </tr>\n",
       "    <tr>\n",
       "      <th>164</th>\n",
       "      <td>AY LYR</td>\n",
       "      <td>14212</td>\n",
       "      <td>65</td>\n",
       "    </tr>\n",
       "    <tr>\n",
       "      <th>815</th>\n",
       "      <td>miu CEP</td>\n",
       "      <td>13680</td>\n",
       "      <td>183</td>\n",
       "    </tr>\n",
       "  </tbody>\n",
       "</table>\n",
       "</div>"
      ],
      "text/plain": [
       "     Variable Star  Number of Observations  Number of Observers\n",
       "1108         R CRB                   59231                  302\n",
       "1466        SS CYG                   52363                  194\n",
       "1463        SS AUR                   34044                  146\n",
       "2472         W CYG                   29928                  230\n",
       "290         CH CYG                   28255                  167\n",
       "1139         R SCT                   28171                  237\n",
       "1740         U GEM                   25596                  183\n",
       "1272        RX AND                   24558                  110\n",
       "296        CHI CYG                   24544                  234\n",
       "1577         T CRB                   22620                  159\n",
       "1238        RU PEG                   20175                  127\n",
       "1503        SU UMA                   19602                   77\n",
       "1005   OMICRON CET                   18196                  222\n",
       "1718        TZ PER                   17774                   76\n",
       "1600         T UMA                   17201                  157\n",
       "552      GAMMA CAS                   16678                  142\n",
       "1822         V BOO                   16427                  165\n",
       "1572         T CEP                   16352                  143\n",
       "1372         S UMA                   16018                  131\n",
       "1749         U ORI                   15732                  197\n",
       "2527         X CAM                   15206                  105\n",
       "38          AB DRA                   15104                   59\n",
       "1339         S CRB                   14946                  148\n",
       "2181      V465 CAS                   14904                  135\n",
       "1123         R LEO                   14770                  179\n",
       "1094         R AQL                   14446                  137\n",
       "2548         X PER                   14420                  157\n",
       "1570         T CAS                   14328                  131\n",
       "164         AY LYR                   14212                   65\n",
       "815        miu CEP                   13680                  183"
      ]
     },
     "execution_count": 17,
     "metadata": {},
     "output_type": "execute_result"
    }
   ],
   "source": [
    "vsdb[['Variable Star', 'Number of Observations', 'Number of Observers']].sort_values(by='Number of Observations', ascending=False).head(30)"
   ]
  },
  {
   "cell_type": "code",
   "execution_count": null,
   "id": "3aca6f84",
   "metadata": {},
   "outputs": [],
   "source": []
  }
 ],
 "metadata": {
  "kernelspec": {
   "display_name": "Python 3 (ipykernel)",
   "language": "python",
   "name": "python3"
  },
  "language_info": {
   "codemirror_mode": {
    "name": "ipython",
    "version": 3
   },
   "file_extension": ".py",
   "mimetype": "text/x-python",
   "name": "python",
   "nbconvert_exporter": "python",
   "pygments_lexer": "ipython3",
   "version": "3.11.0"
  }
 },
 "nbformat": 4,
 "nbformat_minor": 5
}
