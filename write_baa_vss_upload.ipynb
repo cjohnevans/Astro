{
 "cells": [
  {
   "cell_type": "code",
   "execution_count": 1,
   "id": "b9f41165",
   "metadata": {},
   "outputs": [],
   "source": [
    "# write variable star observations in BAA format.\n",
    "import os\n",
    "from astropy.time import Time"
   ]
  },
  {
   "cell_type": "code",
   "execution_count": 2,
   "id": "c6df4b9c",
   "metadata": {},
   "outputs": [
    {
     "name": "stdout",
     "output_type": "stream",
     "text": [
      "['Variable Star Observations BAAVSS format 2 version 1.2\\t\\t\\t\\t\\t\\t\\t\\t\\t\\n', 'Year: \\t2022\\t\\t\\t\\t\\t\\t\\t\\t\\t\\t\\n', 'Observer:  \\tC J Evans\\t\\t\\t\\t\\t\\t\\t\\t\\t\\t\\n', 'Address:\\t\"20 Windsor Crescent, Radyr, Cardiff, CF15 8AE\"\\t\\t\\t\\t\\t\\t\\t\\t\\n', 'Location:\\t51 36N  3 15W\\t\\t\\t\\t\\t\\t\\t\\t\\t\\t\\n', 'Instrument Code 1= NE,2= B8x30,3= B12x50, 4=Celestron C51251250\\t\\t\\t\\t\\t\\t\\t\\n', '\\t\\t\\t\\t\\tData Input Screen\\t\\t\\t\\t\\t\\t\\n', '\\t\\t\\t\\t\\t2440000\\t\\t\\t\\t\\t\\t\\n', '\\t\\tU\\tT\\t\\t\\t\\t\\t\\t\\t\\t\\n', 'Star\\tDate\\th\\tm\\tUT Dec\\tJD Dec\\tEstimate\\tMag\\tCl\\tSeq.\\tIn\\tNotes\\n']\n"
     ]
    }
   ],
   "source": [
    "header = []\n",
    "jd_modifier = 2440000\n",
    "header.append(\"Variable Star Observations BAAVSS format 2 version 1.2\t\t\t\t\t\t\t\t\t\\n\")\n",
    "header.append(\"Year: \t2022\t\t\t\t\t\t\t\t\t\t\\n\")\n",
    "header.append(\"Observer:  \tC J Evans\t\t\t\t\t\t\t\t\t\t\\n\")\n",
    "header.append('Address:\t\\\"20 Windsor Crescent, Radyr, Cardiff, CF15 8AE\\\"\t\t\t\t\t\t\t\t\\n')\n",
    "header.append(\"Location:\t51 36N  3 15W\t\t\t\t\t\t\t\t\t\t\\n\")\n",
    "header.append(\"Instrument Code 1= NE,2= B8x30,3= B12x50, 4=Celestron C51251250\t\t\t\t\t\t\t\\n\")\n",
    "header.append(\"\t\t\t\t\tData Input Screen\t\t\t\t\t\t\\n\")\n",
    "header.append(\"\t\t\t\t\t\" + str(jd_modifier) + \"\t\t\t\t\t\t\\n\") # add this value to JD Dec column to get JD\n",
    "header.append(\"\t\tU\tT\t\t\t\t\t\t\t\t\\n\")\n",
    "header.append(\"Star\tDate\th\tm\tUT Dec\tJD Dec\tEstimate\tMag\tCl\tSeq.\tIn\tNotes\\n\")\n",
    "print(header)"
   ]
  },
  {
   "cell_type": "code",
   "execution_count": 3,
   "id": "c21ccbe7",
   "metadata": {},
   "outputs": [],
   "source": [
    "# format star, yyyy-mm-dd hh:mm, lightestimate, magnitude, obsclass, instrument, notes\n",
    "all_obs = [ \"tx dra,2022-11-04 02:30, n+2,7.9,3,3,low\", \\\n",
    "        \" z uma,2022-11-04 02:34, =c, 7.5,1,3,\", \\\n",
    "          \"eg and,2022-10-17 21:57,c-1,7.7,1,3,\"]\n",
    "all_obs_out = []\n",
    "obs_entry_out = []"
   ]
  },
  {
   "cell_type": "code",
   "execution_count": null,
   "id": "644f6331",
   "metadata": {},
   "outputs": [],
   "source": [
    "for obs_entry in all_obs:\n",
    "    obs_field = obs_entry.split(',')\n",
    "    t = Time(obs_field[1], format='iso', scale='utc')\n",
    "    out_date = t.strftime('%d-%b-%Y') \n",
    "    out_hr = t.strftime('%H')\n",
    "    out_min = t.strftime('%M')\n",
    "    out_jd = \"{:5.3f}\".format(t.jd-jd_modifier)\n",
    "    obs_entry_out = [obs_field[0].strip(), out_date, out_hr, out_min, out_jd]\n",
    "    for f in obs_field[2:]:\n",
    "        obs_entry_out.append(f.strip())\n",
    "    print(obs_entry_out)"
   ]
  },
  {
   "cell_type": "code",
   "execution_count": null,
   "id": "cf71e888",
   "metadata": {},
   "outputs": [],
   "source": [
    "print(star, '\\t', out_date,'\\t', out_hr, '\\t', out_min)"
   ]
  },
  {
   "cell_type": "code",
   "execution_count": null,
   "id": "68870e05",
   "metadata": {},
   "outputs": [],
   "source": [
    "# write data\n",
    "with open('test.txt', 'w') as out_file:\n",
    "    for line in header:\n",
    "        out_file.write(line)\n",
    "out_file.close()"
   ]
  }
 ],
 "metadata": {
  "kernelspec": {
   "display_name": "Python 3 (ipykernel)",
   "language": "python",
   "name": "python3"
  },
  "language_info": {
   "codemirror_mode": {
    "name": "ipython",
    "version": 3
   },
   "file_extension": ".py",
   "mimetype": "text/x-python",
   "name": "python",
   "nbconvert_exporter": "python",
   "pygments_lexer": "ipython3",
   "version": "3.10.4"
  }
 },
 "nbformat": 4,
 "nbformat_minor": 5
}
