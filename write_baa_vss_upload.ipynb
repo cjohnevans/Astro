{
 "cells": [
  {
   "cell_type": "code",
   "execution_count": 1,
   "id": "637809e4",
   "metadata": {},
   "outputs": [],
   "source": [
    "# write variable star observations in BAA format.\n",
    "import os\n",
    "from astropy.time import Time\n",
    "jd_modifier = 2440000"
   ]
  },
  {
   "cell_type": "code",
   "execution_count": 2,
   "id": "c6df4b9c",
   "metadata": {},
   "outputs": [],
   "source": [
    "def set_header():\n",
    "    #  header text\n",
    "    header = []\n",
    "    header.append(\"Variable Star Observations BAAVSS format 2 version 1.2\t\t\t\t\t\t\t\t\t\\n\")\n",
    "    header.append(\"Year: \t2022\t\t\t\t\t\t\t\t\t\t\\n\")\n",
    "    header.append(\"Observer:  \tC J Evans\t\t\t\t\t\t\t\t\t\t\\n\")\n",
    "    header.append('Address:\t\\\"20 Windsor Crescent, Radyr, Cardiff, CF15 8AE\\\"\t\t\t\t\t\t\t\t\\n')\n",
    "    header.append(\"Location:\t51 36N  3 15W\t\t\t\t\t\t\t\t\t\t\\n\")\n",
    "    header.append(\"Instrument Code 1= NE,2= B8x30,3= B12x50, 4=Celestron C51251250\t\t\t\t\t\t\t\\n\")\n",
    "    header.append(\"\t\t\t\t\tData Input Screen\t\t\t\t\t\t\\n\")\n",
    "    header.append(\"\t\t\t\t\t\" + str(jd_modifier) + \"\t\t\t\t\t\t\\n\") # add this value to JD Dec column to get JD\n",
    "    header.append(\"\t\tU\tT\t\t\t\t\t\t\t\t\\n\")\n",
    "    header.append(\"Star\tDate\th\tm\tUT Dec\tJD Dec\tEstimate\tMag\tCl\tSeq.\tIn\tNotes\\n\")\n",
    "    return(header)"
   ]
  },
  {
   "cell_type": "code",
   "execution_count": 21,
   "id": "5c0f4b10",
   "metadata": {},
   "outputs": [],
   "source": [
    "def load_obs_csv(input_csv):\n",
    "    '''\n",
    "Load input file for write_baa_vss_upload.ipynb script.\n",
    "required input format is:\n",
    "    star, yyyy-mm-dd hh:mm, lightestimate, magnitude, obsclass, sequence, instrument, notes\n",
    "    sequence can be left blank if there is a default sequence defined for that star\n",
    "    notes can be left blank, but comma after instrument is required.      \n",
    "    '''\n",
    "    all_obs = []\n",
    "    with open(input_csv) as f:\n",
    "        lines = f.readlines()\n",
    "    for line in lines:\n",
    "        if line.find('#') == -1:\n",
    "            all_obs.append(line)\n",
    "    return(all_obs)"
   ]
  },
  {
   "cell_type": "code",
   "execution_count": 22,
   "id": "9ee9310d",
   "metadata": {},
   "outputs": [],
   "source": [
    "def convert_csv(all_obs):\n",
    "    '''\n",
    "    Convert the csv input format to baa vss format for upload\n",
    "    all_obs is list of strings from input csv (one string per obs)\n",
    "    returns all_obs_baa as a list of strings for csv input\n",
    "    '''\n",
    "    all_obs_out = []  #will be a list of formatted strings for baa input\n",
    "    \n",
    "    for obs_entry in all_obs:\n",
    "        obs_field = obs_entry.split(',')\n",
    "        t = Time(obs_field[1], format='iso', scale='utc')\n",
    "        out_date = t.strftime('%d-%b-%Y') \n",
    "        out_hr = t.strftime('%H')\n",
    "        out_min = t.strftime('%M')\n",
    "        out_day = t.strftime('%d')\n",
    "        out_month = t.strftime('%m')\n",
    "        out_year = t.strftime('%Y')\n",
    "        month_start = out_year + '-' + out_month + '-' + '01' + \" 00:00\"\n",
    "        t_month_start = Time(month_start, format='iso', scale='utc')\n",
    "        # baa's day of month counts from 1\n",
    "        baa_day_of_month = \"{:2.3f}\".format(t.jd - t_month_start.jd + 1)\n",
    "    #    print(\"{:2.3f}\".format(t.jd - t_month_start.jd))\n",
    "        out_jd = \"{:5.3f}\".format(t.jd-jd_modifier)\n",
    "        obs_entry_out = [obs_field[0].strip().upper(), out_date, out_hr, out_min, baa_day_of_month, out_jd]\n",
    "        for f in obs_field[2:]:\n",
    "            obs_entry_out.append(f.strip())\n",
    "        # check each obs for star, sequence.  add default sequence if known\n",
    "        input_ok=input_check(obs_entry_out)\n",
    "\n",
    "        line_out = ''\n",
    "        if input_ok:\n",
    "            new_obs_entry_out = [(e+'\\t') for e in obs_entry_out]\n",
    "            line_out = \"\".join(new_obs_entry_out)\n",
    "            all_obs_out.append(line_out)\n",
    "    \n",
    "    return(all_obs_out)"
   ]
  },
  {
   "cell_type": "code",
   "execution_count": 23,
   "id": "ef6db1a5",
   "metadata": {},
   "outputs": [],
   "source": [
    "def input_check(obs_to_check):\n",
    "    '''\n",
    "    check inputted values for validity (sequence, star,instruments)\n",
    "    '''    \n",
    "    instruments = [1,2,3,4]\n",
    "    baa_seq = []\n",
    "    baa_star = []\n",
    "    with open('baa_vss_sequences.csv','r') as seq_file:\n",
    "        for line in seq_file.readlines():\n",
    "            baa_seq.append(line.replace('\\n',''))\n",
    "    with open('baa_vss_stars.csv', 'r') as star_file:\n",
    "        for line in star_file.readlines():\n",
    "            baa_star.append(line.replace('\\n','').upper())     \n",
    "    #with open('default_sequences.csv'):\n",
    "    print(obs_to_check)\n",
    "    if len(obs_to_check) == 12:\n",
    "        print('length OK')\n",
    "        len_ok = True\n",
    "    if obs_to_check[0].upper() in baa_star:\n",
    "        print('star OK')\n",
    "        star_ok = True\n",
    "    else:\n",
    "        print('star ' + obs_to_check[0] + ' not found')\n",
    "    if obs_to_check[9] in baa_seq:\n",
    "        print('seq OK')\n",
    "        seq_ok = True\n",
    "    else:\n",
    "        ###  Code for using default sequences would go in here\n",
    "        print(\"Sequence not defined\")\n",
    "    all_ok = len_ok and star_ok and seq_ok\n",
    "    print('Valid observation: ' + str(all_ok))\n",
    "    return(all_ok)"
   ]
  },
  {
   "cell_type": "code",
   "execution_count": 29,
   "id": "68870e05",
   "metadata": {},
   "outputs": [
    {
     "name": "stdout",
     "output_type": "stream",
     "text": [
      "['TX DRA', '04-Nov-2022', '02', '30', '4.104', '19887.604', 'N-2', '7.9', '2', '106.03', '3', 'low']\n",
      "length OK\n",
      "star OK\n",
      "seq OK\n",
      "Valid observation: True\n",
      "['Z UMA', '04-Nov-2022', '02', '34', '4.107', '19887.607', '=c', '7.5', '1', '217.02', '3', '']\n",
      "length OK\n",
      "star OK\n",
      "seq OK\n",
      "Valid observation: True\n",
      "['EG AND', '17-Oct-2022', '21', '57', '17.915', '19870.415', 'c-1', '7.7', '1', '72.02', '3', '']\n",
      "length OK\n",
      "star OK\n",
      "seq OK\n",
      "Valid observation: True\n",
      "['TX DRA\\t04-Nov-2022\\t02\\t30\\t4.104\\t19887.604\\tN-2\\t7.9\\t2\\t106.03\\t3\\tlow\\t', 'Z UMA\\t04-Nov-2022\\t02\\t34\\t4.107\\t19887.607\\t=c\\t7.5\\t1\\t217.02\\t3\\t\\t', 'EG AND\\t17-Oct-2022\\t21\\t57\\t17.915\\t19870.415\\tc-1\\t7.7\\t1\\t72.02\\t3\\t\\t']\n"
     ]
    }
   ],
   "source": [
    "# define input file here\n",
    "input_path = \"/home/john/astro/baa_vss_upload\"\n",
    "input_file = \"baa_20221106.csv\"\n",
    "input_full_path = os.path.join(input_path, input_file)\n",
    "\n",
    "header = set_header()\n",
    "obs = load_obs_csv(input_full_path)\n",
    "obs = convert_csv(obs)\n",
    "print(obs)\n",
    "\n",
    "out_full_path = os.path.join(input_path,'test.txt')\n",
    "# write data\n",
    "with open(out_full_path, 'w') as out_file:\n",
    "    for line in header:\n",
    "        out_file.write(line)\n",
    "    for obs_line in obs:\n",
    "        out_file.write(obs_line + '\\n')\n",
    "out_file.close()"
   ]
  },
  {
   "cell_type": "code",
   "execution_count": null,
   "id": "c38ef4d4",
   "metadata": {},
   "outputs": [],
   "source": [
    "#############  OLD CODE ########################"
   ]
  },
  {
   "cell_type": "code",
   "execution_count": null,
   "id": "c21ccbe7",
   "metadata": {},
   "outputs": [],
   "source": [
    "# format star, yyyy-mm-dd hh:mm, lightestimate, magnitude, obsclass, instrument, notes\n",
    "all_obs = [ \"tx dra,2022-11-04 02:30, n+2,7.9,3,3,low\", \\\n",
    "        \" z uma,2022-11-04 02:34, =c, 7.5,1,3,\", \\\n",
    "          \"eg and,2022-10-17 21:57,c-1,7.7,1,3,\", \\\n",
    "    \"EG AND,2022-10-17 21:57,C-1,7.7\", \\\n",
    "    \"GAMMA CAS,2022-10-17 21:17,=B,2.1\", \\\n",
    "    \"CH CYG,2022-10-17 21:48,A-2,6.7\", \\\n",
    "    \"P CYG,2022-10-17 21:44,=50,5.0\", \\\n",
    "    \"W CYG,2022-10-17 22:30,A-1,6.3\", \\\n",
    "    \"AH DRA,2022-10-17 22:08,=6,7.8\", \\\n",
    "    \"TX DRA,2022-10-17 21:00,K-2,7.2\", \\\n",
    "    \"ALPHA ORI,2022-10-18 05:30,=C,0.4\", \\\n",
    "    \"EG And,2021-12-06 20:38,b(1)v(1)c,7.5\", \\\n",
    "    \"EG And,2022-08-06 03:30,=a,7.0\", \\\n",
    "    \"gamma cas,2021-12-06 20:30,a(2)v(1)b,2.0\"\n",
    "          ]\n",
    "all_obs_out = []\n",
    "obs_entry_out = []"
   ]
  },
  {
   "cell_type": "code",
   "execution_count": null,
   "id": "91624fe9",
   "metadata": {},
   "outputs": [],
   "source": [
    "# format star, yyyy-mm-dd hh:mm, lightestimate, magnitude, obsclass, sequence, instrument, notes\n",
    "# sequence can be left blank if there is a default sequence defined for that star\n",
    "all_obs = [ \"tx dra,2022-11-04 02:30, n+2,7.9,3,,3,low\", \\\n",
    "        \" z uma,2022-11-04 02:34, =c, 7.5,1,,3,\", \\\n",
    "          \"eg and,2022-10-17 21:57,c-1,7.7,1,,3,\" ]\n",
    "all_obs_out = []\n",
    "obs_entry_out = []"
   ]
  }
 ],
 "metadata": {
  "kernelspec": {
   "display_name": "Python 3 (ipykernel)",
   "language": "python",
   "name": "python3"
  },
  "language_info": {
   "codemirror_mode": {
    "name": "ipython",
    "version": 3
   },
   "file_extension": ".py",
   "mimetype": "text/x-python",
   "name": "python",
   "nbconvert_exporter": "python",
   "pygments_lexer": "ipython3",
   "version": "3.10.4"
  }
 },
 "nbformat": 4,
 "nbformat_minor": 5
}
